{
 "cells": [
  {
   "cell_type": "markdown",
   "metadata": {},
   "source": [
    "# Machine Learning and Statistics\n",
    "\n",
    "Tasks notebook for Machine Learning and Statistics @ GMIT - 2020\n",
    "\n",
    "Author: Maciej Izydorek (G00387873@gmit.ie) Github: [mizydorek](https://github.com/mizydorek/Machine-Learning-Tasks-2020)\n",
    "\n",
    "\n",
    "***"
   ]
  },
  {
   "cell_type": "markdown",
   "metadata": {},
   "source": [
    "### Task 1 - Square root of 2\n",
    "\n",
    "*Write a Python function called sqrt2 that calculates and prints to the screen the square root of 2 to 100 decimal places.*"
   ]
  },
  {
   "source": [
    "$$ \\sqrt{2} $$\n",
    "\n",
    "*\"The square root of 2 is irrational\"*\n",
    "\n",
    "Numbers that cannot be expressed as a ratio or fraction of natural numbers are called irrational and the famous example is the square root of 2, which is roughly 1.4142 and written in mathematics as $ \\sqrt{2} $ or $ 2^{1/2} $. It is a positive algebraic number which multiplied by itself, equals 2. Geometrically is represented as diagonal across a square with sides of one unit length.[1]"
   ],
   "cell_type": "markdown",
   "metadata": {}
  },
  {
   "cell_type": "markdown",
   "metadata": {},
   "source": [
    "### Heron's method\n",
    "\n",
    "It is a most common iterative method [2] for approximating square roots known as the Heron's method after the first-century Greek philosopher Heron of Alexandria.[3] It takes an approximate guess and returns a new approximate result that is more accurate than the last one. This can be repeated as many times until the desired accuracy is reached.[4,5]\n",
    "\n",
    "$$ x_{n+1} = \\frac{x_{n} + \\frac{a}{x_{n}}}{2} $$\n",
    "\n"
   ]
  },
  {
   "cell_type": "code",
   "execution_count": 1,
   "metadata": {},
   "outputs": [
    {
     "output_type": "stream",
     "name": "stdout",
     "text": [
      "The square root of 2 to 100 decimal places:\n1.414213562373095048801688724209698078569671875376948073176679737990732478462107038850387534327641572\n"
     ]
    }
   ],
   "source": [
    "# finding on how to generate square root of an integer to a digits of precision https://stackoverflow.com/questions/5187664/generating-digits-of-square-root-of-2\n",
    "\n",
    "def sqrt2():\n",
    "    '''\n",
    "    Function that counts square root of 2 to 100 decimal places\n",
    "    '''\n",
    "    # Initial values\n",
    "    a = 2\n",
    "    digits = 100\n",
    "    \n",
    "    # finding the square root of 2 after multiplying by 10 raised to the 2* digits\n",
    "    a = a * (10**(2*digits))\n",
    "    x_n = 0\n",
    "    x_n1 = 1 * (10**digits)\n",
    "\n",
    "    # Apply Heron's method \n",
    "    while x_n != x_n1:\n",
    "        x_n = x_n1\n",
    "        x_n1 = (x_n + (a // x_n)) >> 1\n",
    "\n",
    "    # convert to string \n",
    "    string = str(x_n1)\n",
    "    # print out the result \n",
    "    print('The square root of 2 to 100 decimal places:')\n",
    "    print(\"%s.%s\" % (string[0:1], string[1:digits]))\n",
    "\n",
    "if __name__ == '__main__':\n",
    "    sqrt2()"
   ]
  },
  {
   "source": [
    "### Verification\n",
    "\n",
    "The result can be compare against *\"The Square Root of Two to 1 Million Digits\"* found on Nasa website.[6]\n",
    "\n",
    "\n",
    "\n",
    "1.414213562373095048801688724209698078569671875376948073176679737990732478462107038850387534327641572"
   ],
   "cell_type": "markdown",
   "metadata": {}
  },
  {
   "cell_type": "markdown",
   "metadata": {},
   "source": [
    "### References\n",
    "\n",
    "[1] Square root of 2 https://en.wikipedia.org/wiki/Square_root_of_2\n",
    "\n",
    "[2] Heron's method http://assets.press.princeton.edu/chapters/s9487.pdf\n",
    "\n",
    "[3] Square root https://en.wikipedia.org/wiki/Square_root\n",
    "\n",
    "[4] Computing square root https://en.wikipedia.org/wiki/Methods_of_computing_square_roots\n",
    "\n",
    "[5] A Note on Machine Method for Root Extraction http://www.spm.uem.br/bspm/pdf/next/151.pdf\n",
    "\n",
    "[6] The Square Root of Two to 1 Million Digits https://apod.nasa.gov/htmltest/gifcity/sqrt2.1mil"
   ]
  },
  {
   "source": [
    "\n",
    "<br>\n",
    "\n",
    "***\n",
    "\n",
    "<br>"
   ],
   "cell_type": "markdown",
   "metadata": {}
  },
  {
   "source": [
    "#### Task 2 - The Chi Square test\n",
    "\n",
    "*Use scipy.stats to verify value and calculate the associated p value for table posted on the Wikipedia Chi-Square article. You should include a short note with references justifying your analysis in a markdown cell.*"
   ],
   "cell_type": "markdown",
   "metadata": {}
  },
  {
   "source": [
    "The formula to calculate Chi-square value or $ X^{2} $ is:\n",
    "\n",
    "$$ X^{2} = \\sum_{k=1}^n \\frac{(O_k - E_k)^2}{E_k}$$\n",
    " \n",
    "Where $ X $ is 22nd letter of Greek alphabet - Chi.\n",
    "\n",
    "Chi-Square test is a statistical hypothesis test to determine whether there is a statistically significant difference between the expected  and the observed frequencies in one or more categories of a contingency table."
   ],
   "cell_type": "markdown",
   "metadata": {}
  },
  {
   "source": [
    "### Contingency table\n",
    "\n",
    "A table showing the distribution of 3 groups of workers across four neighborhoods with a total number of 650 observed values.\n",
    "\n",
    "|   | A | B | C | D | Total |\n",
    "|---|:---:|:---:|:---:|:---:|:---:|\n",
    "| White collar | 90 | 60 | 104 | 95 | 349 |\n",
    "| Blue collar  | 30 | 50 | 51 | 20 | 151 |\n",
    "| No collar | 30 | 40 | 45 | 35 | 150 |\n",
    "| <b>Total</b> | <b>150</b> | <b>150</b> | <b>200</b> | <b>150</b> | <b>650</b> |"
   ],
   "cell_type": "markdown",
   "metadata": {}
  },
  {
   "source": [
    "### Define the Hypothesis\n",
    "\n",
    "A statistical method which evaluates two Hypothesis (statements) and determines which is true is called a Hypothesis Test.\n",
    "\n",
    "H0: The residents and group of workers are not independent.\n",
    "\n",
    "H1: The residents and group of workers are independent."
   ],
   "cell_type": "markdown",
   "metadata": {}
  },
  {
   "source": [
    "### Significance Level \n",
    "\n",
    "Also called as alpha value is a treshhold that determines whether the null hypothesis should be rejected or not. For the null hypothesis to be rejected the p-value should be less than the significance level. Usually in the range of 0.01 to 0.1\n",
    "\n",
    "If p-value <= alpha: significant result, reject null hypothesis (H0)\n",
    "\n",
    "If p-value > alpha: not significant result, fail to reject null hypothesis (H0)"
   ],
   "cell_type": "markdown",
   "metadata": {}
  },
  {
   "cell_type": "code",
   "execution_count": 2,
   "metadata": {},
   "outputs": [],
   "source": [
    "alpha = 0.05"
   ]
  },
  {
   "source": [
    "### Degrees of freedom\n",
    "\n",
    "*degrees of freedom formula: (rows - 1) * (cols - 1)*\n",
    "\n",
    "In our case:\n",
    "\n",
    "Rows = 3 groups of workers\n",
    "\n",
    "Columns = 4 neighborhoods\n",
    "\n",
    "So we take (3 – 1) and multiply by (4 – 1) to get 6 degrees of freedom."
   ],
   "cell_type": "markdown",
   "metadata": {}
  },
  {
   "cell_type": "code",
   "execution_count": 3,
   "metadata": {},
   "outputs": [],
   "source": [
    "dof = 6"
   ]
  },
  {
   "cell_type": "code",
   "execution_count": 4,
   "metadata": {},
   "outputs": [],
   "source": [
    "import numpy as np\n",
    "import pandas as pd\n",
    "import scipy.stats as stats"
   ]
  },
  {
   "source": [
    "### Dataset "
   ],
   "cell_type": "markdown",
   "metadata": {}
  },
  {
   "cell_type": "code",
   "execution_count": 5,
   "metadata": {},
   "outputs": [
    {
     "output_type": "execute_result",
     "data": {
      "text/plain": [
       "                A    B    C    D  Total\n",
       "White collar   90   60  104   95    349\n",
       "Blue collar    30   50   51   20    151\n",
       "No collar      30   40   45   35    150\n",
       "All           150  150  200  150    650"
      ],
      "text/html": "<div>\n<style scoped>\n    .dataframe tbody tr th:only-of-type {\n        vertical-align: middle;\n    }\n\n    .dataframe tbody tr th {\n        vertical-align: top;\n    }\n\n    .dataframe thead th {\n        text-align: right;\n    }\n</style>\n<table border=\"1\" class=\"dataframe\">\n  <thead>\n    <tr style=\"text-align: right;\">\n      <th></th>\n      <th>A</th>\n      <th>B</th>\n      <th>C</th>\n      <th>D</th>\n      <th>Total</th>\n    </tr>\n  </thead>\n  <tbody>\n    <tr>\n      <th>White collar</th>\n      <td>90</td>\n      <td>60</td>\n      <td>104</td>\n      <td>95</td>\n      <td>349</td>\n    </tr>\n    <tr>\n      <th>Blue collar</th>\n      <td>30</td>\n      <td>50</td>\n      <td>51</td>\n      <td>20</td>\n      <td>151</td>\n    </tr>\n    <tr>\n      <th>No collar</th>\n      <td>30</td>\n      <td>40</td>\n      <td>45</td>\n      <td>35</td>\n      <td>150</td>\n    </tr>\n    <tr>\n      <th>All</th>\n      <td>150</td>\n      <td>150</td>\n      <td>200</td>\n      <td>150</td>\n      <td>650</td>\n    </tr>\n  </tbody>\n</table>\n</div>"
     },
     "metadata": {},
     "execution_count": 5
    }
   ],
   "source": [
    "# load data set \n",
    "df = pd.read_csv('chisquare.csv', index_col=[0])\n",
    "df"
   ]
  },
  {
   "cell_type": "code",
   "execution_count": 6,
   "metadata": {},
   "outputs": [
    {
     "output_type": "execute_result",
     "data": {
      "text/plain": [
       "               A   B    C   D\n",
       "White collar  90  60  104  95\n",
       "Blue collar   30  50   51  20\n",
       "No collar     30  40   45  35"
      ],
      "text/html": "<div>\n<style scoped>\n    .dataframe tbody tr th:only-of-type {\n        vertical-align: middle;\n    }\n\n    .dataframe tbody tr th {\n        vertical-align: top;\n    }\n\n    .dataframe thead th {\n        text-align: right;\n    }\n</style>\n<table border=\"1\" class=\"dataframe\">\n  <thead>\n    <tr style=\"text-align: right;\">\n      <th></th>\n      <th>A</th>\n      <th>B</th>\n      <th>C</th>\n      <th>D</th>\n    </tr>\n  </thead>\n  <tbody>\n    <tr>\n      <th>White collar</th>\n      <td>90</td>\n      <td>60</td>\n      <td>104</td>\n      <td>95</td>\n    </tr>\n    <tr>\n      <th>Blue collar</th>\n      <td>30</td>\n      <td>50</td>\n      <td>51</td>\n      <td>20</td>\n    </tr>\n    <tr>\n      <th>No collar</th>\n      <td>30</td>\n      <td>40</td>\n      <td>45</td>\n      <td>35</td>\n    </tr>\n  </tbody>\n</table>\n</div>"
     },
     "metadata": {},
     "execution_count": 6
    }
   ],
   "source": [
    "\n",
    "observed = pd.DataFrame(df.iloc[0:3,0:4])\n",
    "observed"
   ]
  },
  {
   "source": [
    "### Expected Frequency\n",
    "\n",
    "Using formula below we calculate the expected frequency for each cell.\n",
    "\n",
    "Expected = (row total * column total) / grand total\n"
   ],
   "cell_type": "markdown",
   "metadata": {}
  },
  {
   "cell_type": "code",
   "execution_count": 7,
   "metadata": {},
   "outputs": [
    {
     "output_type": "execute_result",
     "data": {
      "text/plain": [
       "                      A          B           C          D\n",
       "White collar  80.538462  80.538462  107.384615  80.538462\n",
       "Blue collar   34.846154  34.846154   46.461538  34.846154\n",
       "No collar     34.615385  34.615385   46.153846  34.615385"
      ],
      "text/html": "<div>\n<style scoped>\n    .dataframe tbody tr th:only-of-type {\n        vertical-align: middle;\n    }\n\n    .dataframe tbody tr th {\n        vertical-align: top;\n    }\n\n    .dataframe thead th {\n        text-align: right;\n    }\n</style>\n<table border=\"1\" class=\"dataframe\">\n  <thead>\n    <tr style=\"text-align: right;\">\n      <th></th>\n      <th>A</th>\n      <th>B</th>\n      <th>C</th>\n      <th>D</th>\n    </tr>\n  </thead>\n  <tbody>\n    <tr>\n      <th>White collar</th>\n      <td>80.538462</td>\n      <td>80.538462</td>\n      <td>107.384615</td>\n      <td>80.538462</td>\n    </tr>\n    <tr>\n      <th>Blue collar</th>\n      <td>34.846154</td>\n      <td>34.846154</td>\n      <td>46.461538</td>\n      <td>34.846154</td>\n    </tr>\n    <tr>\n      <th>No collar</th>\n      <td>34.615385</td>\n      <td>34.615385</td>\n      <td>46.153846</td>\n      <td>34.615385</td>\n    </tr>\n  </tbody>\n</table>\n</div>"
     },
     "metadata": {},
     "execution_count": 7
    }
   ],
   "source": [
    "# np.outer compute the outer product of two vectors.\n",
    "expected =  np.outer(df[\"Total\"][0:3], df.loc[\"All\"][0:4]) / 650\n",
    "\n",
    "expected = pd.DataFrame(expected, \n",
    "            index=[\"White collar\",\"Blue collar\",\"No collar\"], \n",
    "            columns=[\"A\",\"B\",\"C\",\"D\"])\n",
    "expected\n"
   ]
  },
  {
   "source": [
    "### Chi-Square Statistic "
   ],
   "cell_type": "markdown",
   "metadata": {}
  },
  {
   "cell_type": "code",
   "execution_count": 8,
   "metadata": {},
   "outputs": [
    {
     "output_type": "execute_result",
     "data": {
      "text/plain": [
       "24.571202858582602"
      ]
     },
     "metadata": {},
     "execution_count": 8
    }
   ],
   "source": [
    "chi2_stat = (((observed-expected)**2)/expected).sum().sum()\n",
    "chi2_stat"
   ]
  },
  {
   "source": [
    "### Find the p-value\n"
   ],
   "cell_type": "markdown",
   "metadata": {}
  },
  {
   "cell_type": "code",
   "execution_count": 9,
   "metadata": {},
   "outputs": [
    {
     "output_type": "execute_result",
     "data": {
      "text/plain": [
       "0.0004098425861096544"
      ]
     },
     "metadata": {},
     "execution_count": 9
    }
   ],
   "source": [
    "p_value = 1 - stats.chi2.cdf(x=chi2_stat, df=6)\n",
    "p_value"
   ]
  },
  {
   "source": [
    "### SciPy chi2_contingency\n",
    "\n",
    "All above calculation can be done using SciPy chi2_contingency module by passing just a Contingency table.\n"
   ],
   "cell_type": "markdown",
   "metadata": {}
  },
  {
   "cell_type": "code",
   "execution_count": 10,
   "metadata": {},
   "outputs": [
    {
     "output_type": "stream",
     "name": "stdout",
     "text": [
      "Chi2: 24.5712028585826\n\nP-value: 0.0004098425861096696\n\nDegrees of freedom: 6\n\n\nExpected Frequency:\n                       A          B           C          D\nWhite collar  80.538462  80.538462  107.384615  80.538462\nBlue collar   34.846154  34.846154   46.461538  34.846154\nNo collar     34.615385  34.615385   46.153846  34.615385\n"
     ]
    }
   ],
   "source": [
    "chi2, p, dof, expected = stats.chi2_contingency(observed)\n",
    "print('Chi2: {}\\n\\nP-value: {}\\n\\nDegrees of freedom: {}\\n\\n'.format(chi2, p, dof))\n",
    "expected = pd.DataFrame(expected, \n",
    "            index=[\"White collar\",\"Blue collar\",\"No collar\"], \n",
    "            columns=[\"A\",\"B\",\"C\",\"D\"])\n",
    "print('Expected Frequency:\\n', expected)"
   ]
  },
  {
   "source": [
    "### Evaluate the Hypothesis"
   ],
   "cell_type": "markdown",
   "metadata": {}
  },
  {
   "cell_type": "code",
   "execution_count": 11,
   "metadata": {},
   "outputs": [
    {
     "output_type": "stream",
     "name": "stdout",
     "text": [
      "Dependent, reject null hypothesis (H0)\n"
     ]
    }
   ],
   "source": [
    "# Evaluate whether to reject or keep null hypothesis\n",
    "if p_value <= alpha:\n",
    "    print('Dependent, reject null hypothesis (H0)')\n",
    "else:\n",
    "    print('Independent, fail to reject null hypothesis (H0)')"
   ]
  },
  {
   "source": [
    "### Interpretation\n",
    "\n",
    "The p-value obtained from Chi-Square test for independence on a given data set clearly shown that is significant and rejected null hypothesis. To conclude further, there is a significant relation between groups of workers across four neighborhoods. "
   ],
   "cell_type": "markdown",
   "metadata": {}
  },
  {
   "source": [
    "#### References\n",
    "\n",
    "[1] Chi-Square test https://en.wikipedia.org/wiki/Chi-squared_test\n",
    "\n",
    "[2] Scipy chi2 https://docs.scipy.org/doc/scipy/reference/generated/scipy.stats.chi2.html\n",
    "\n",
    "[3] Scipy chi2_contingency https://docs.scipy.org/doc/scipy/reference/generated/scipy.stats.chi2_contingency.html\n",
    "\n",
    "[4] Chi-Square Distribution Table http://kisi.deu.edu.tr/joshua.cowley/Chi-square-table.pdf\n",
    "\n",
    "[5] Contingency table https://en.wikipedia.org/wiki/Contingency_table\n",
    "\n",
    "[6] Pearson's chi-squared test https://en.wikipedia.org/wiki/Pearson%27s_chi-squared_test"
   ],
   "cell_type": "markdown",
   "metadata": {}
  },
  {
   "source": [
    "***"
   ],
   "cell_type": "markdown",
   "metadata": {}
  },
  {
   "source": [
    "#### Task 3 - The standard deviation \n",
    "\n",
    "*The standard deviation of an array of numbers x is calculated using numpy as np.sqrt(np.sum((x - np.mean(x))**2)/len(x)) . However, Microsoft Excel has two different versions of the standard deviation calculation, STDEV.P and . The STDEV.P function performs the above calculation but in the   calculation the division is by len(x)-1 rather than len(x) . Research these Excel functions, writing a note in a Markdown cell about the difference between them. Then use numpy to perform a simulation demonstrating that the STDEV.S calculation is a better estimate for the standard deviation of a population when performed on a sample. Note that part of this task is to figure out the terminology in the previous sentence.*\n",
    "\n"
   ],
   "cell_type": "markdown",
   "metadata": {}
  },
  {
   "source": [
    "The standard deviation is a statistic that measures the dispersion of a dataset relative to its mean and is calculated as the square root of the variance. In other words, it tells, on average, how far each value lies from the mean.[1]\n",
    "\n",
    "The Formula for Standard Deviation\n",
    "\n",
    "$$ \\sigma = \\sqrt \\frac {\\sum_{i=1}^n(x_i - \\overline x)^2} {n} $$\n",
    "\n",
    "where: $ x_i $ = value of the $i^{th}$ point in the data set, $\\overline x$ = the mean value of the data set and $n$ = the number of data points in the data set\n",
    "​\t\n",
    "\n"
   ],
   "cell_type": "markdown",
   "metadata": {}
  },
  {
   "source": [
    "#### References\n",
    "\n",
    "[1] — [Standard deviation](https://en.wikipedia.org/wiki/Standard_deviation)\n",
    "\n",
    "[2] — [STDEV.S](https://support.microsoft.com/en-us/office/stdev-s-function-7d69cf97-0c1f-4acf-be27-f3e83904cc23)\n",
    "\n",
    "[3] — [STDEV.P](https://support.microsoft.com/en-us/office/stdev-p-function-6e917c05-31a0-496f-ade7-4f4e7462f285#:~:text=P%20function,-Excel%20for%20Microsoft&text=Calculates%20standard%20deviation%20based%20on,average%20value%20(the%20mean))\n"
   ],
   "cell_type": "markdown",
   "metadata": {}
  },
  {
   "cell_type": "code",
   "execution_count": null,
   "metadata": {},
   "outputs": [],
   "source": []
  }
 ],
 "metadata": {
  "kernelspec": {
   "display_name": "Python 3",
   "language": "python",
   "name": "python3"
  },
  "language_info": {
   "codemirror_mode": {
    "name": "ipython",
    "version": 3
   },
   "file_extension": ".py",
   "mimetype": "text/x-python",
   "name": "python",
   "nbconvert_exporter": "python",
   "pygments_lexer": "ipython3",
   "version": "3.9.0-final"
  }
 },
 "nbformat": 4,
 "nbformat_minor": 2
}