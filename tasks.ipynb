{
 "metadata": {
  "language_info": {
   "codemirror_mode": {
    "name": "ipython",
    "version": 3
   },
   "file_extension": ".py",
   "mimetype": "text/x-python",
   "name": "python",
   "nbconvert_exporter": "python",
   "pygments_lexer": "ipython3",
   "version": "3.8.3-final"
  },
  "orig_nbformat": 2,
  "kernelspec": {
   "name": "Python 3.8.3 32-bit",
   "display_name": "Python 3.8.3 32-bit",
   "metadata": {
    "interpreter": {
     "hash": "d53ec9bb4167b68395b9e8bf6ef6048dff0ad5d7af4830b0ad7d9b1d9bd67a44"
    }
   }
  }
 },
 "nbformat": 4,
 "nbformat_minor": 2,
 "cells": [
  {
   "source": [
    "# Machine Learning and Statistics\n",
    "\n",
    "Tasks notebook for Machine Learning and Statistics @ GMIT - 2020\n",
    "\n",
    "Author: Maciej Izydorek (G00387873@gmit.ie) Github: [mizydorek](https://github.com/mizydorek/Machine-Learning-Tasks-2020)\n",
    "\n",
    "\n",
    "***"
   ],
   "cell_type": "markdown",
   "metadata": {}
  },
  {
   "source": [
    "## Task 1 - Square root of 2\n",
    "\n",
    "*Write a Python function called sqrt2 that calculates and prints to the screen the square root of 2 to 100 decimal places.*"
   ],
   "cell_type": "markdown",
   "metadata": {}
  },
  {
   "source": [
    "### Heron's method\n",
    "\n",
    "It is a most common iterative method [1,3] for approximating square roots known as the Heron's method after the first-century Greek philosopher Heron of Alexandria.[2] It takes an approximate guess and returns a new approximate result that is more accurate than the last one. This can be repeated as many times until the desired accuracy is reached.\n",
    "\n",
    "$$ x_{n+1} = \\frac{x_{n} + \\frac{a}{x_{n}}}{2} $$\n",
    "\n"
   ],
   "cell_type": "markdown",
   "metadata": {}
  },
  {
   "cell_type": "code",
   "execution_count": null,
   "metadata": {},
   "outputs": [],
   "source": []
  },
  {
   "source": [
    "## References\n",
    "\n",
    "[1] Heron's method http://assets.press.princeton.edu/chapters/s9487.pdf\n",
    "\n",
    "[2] Square root https://en.wikipedia.org/wiki/Square_root\n",
    "\n",
    "[3] Computing square root https://en.wikipedia.org/wiki/Methods_of_computing_square_roots"
   ],
   "cell_type": "markdown",
   "metadata": {}
  },
  {
   "cell_type": "code",
   "execution_count": null,
   "metadata": {},
   "outputs": [],
   "source": []
  }
 ]
}