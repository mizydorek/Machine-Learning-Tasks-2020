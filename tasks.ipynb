{
 "metadata": {
  "language_info": {
   "codemirror_mode": {
    "name": "ipython",
    "version": 3
   },
   "file_extension": ".py",
   "mimetype": "text/x-python",
   "name": "python",
   "nbconvert_exporter": "python",
   "pygments_lexer": "ipython3",
   "version": "3.8.3-final"
  },
  "orig_nbformat": 2,
  "kernelspec": {
   "name": "Python 3.8.3 32-bit",
   "display_name": "Python 3.8.3 32-bit",
   "metadata": {
    "interpreter": {
     "hash": "d53ec9bb4167b68395b9e8bf6ef6048dff0ad5d7af4830b0ad7d9b1d9bd67a44"
    }
   }
  }
 },
 "nbformat": 4,
 "nbformat_minor": 2,
 "cells": [
  {
   "source": [
    "# Machine Learning and Statistics\n",
    "\n",
    "Tasks notebook for Machine Learning and Statistics @ GMIT - 2020\n",
    "\n",
    "Author: Maciej Izydorek (G00387873@gmit.ie) Github: [mizydorek](https://github.com/mizydorek/Machine-Learning-Tasks-2020)\n",
    "\n",
    "\n",
    "***"
   ],
   "cell_type": "markdown",
   "metadata": {}
  },
  {
   "source": [
    "## Task 1 - Square root of 2\n",
    "\n",
    "*Write a Python function called sqrt2 that calculates and prints to the screen the square root of 2 to 100 decimal places.*"
   ],
   "cell_type": "markdown",
   "metadata": {}
  },
  {
   "source": [
    "### Heron's method\n",
    "\n",
    "It is a most common iterative method [1] for approximating square roots known as the Heron's method after the first-century Greek philosopher Heron of Alexandria.[2] It takes an approximate guess and returns a new approximate result that is more accurate than the last one. This can be repeated as many times until the desired accuracy is reached.[3,4]\n",
    "\n",
    "$$ x_{n+1} = \\frac{x_{n} + \\frac{a}{x_{n}}}{2} $$\n",
    "\n"
   ],
   "cell_type": "markdown",
   "metadata": {}
  },
  {
   "cell_type": "code",
   "execution_count": 1,
   "metadata": {},
   "outputs": [
    {
     "output_type": "stream",
     "name": "stdout",
     "text": [
      "The square root of 2 to 100 decimal places:\n1.414213562373095048801688724209698078569671875376948073176679737990732478462107038850387534327641572\n"
     ]
    }
   ],
   "source": [
    "# https://stackoverflow.com/questions/5187664/generating-digits-of-square-root-of-2\n",
    "\n",
    "def sqrt2():\n",
    "    '''\n",
    "    Function that counts square root of 2 to 100 decimal places\n",
    "    '''\n",
    "    # Initial values\n",
    "    a = 2\n",
    "    digits = 100\n",
    "    \n",
    "    # finding the square root of 2 after multiplying by 10 raised to the 2* digits\n",
    "    a = a * (10**(2*digits))\n",
    "    x_n = 0\n",
    "    x_n1 = 1 * (10**digits)\n",
    "\n",
    "    # Apply Heron's method \n",
    "    while x_n != x_n1:\n",
    "        x_n = x_n1\n",
    "        x_n1 = (x_n + (a // x_n)) >> 1\n",
    "\n",
    "    # convert to string \n",
    "    string = str(x_n1)\n",
    "    # print out the result \n",
    "    print('The square root of 2 to 100 decimal places:')\n",
    "    print(\"%s.%s\" % (string[0:1], string[1:digits]))\n",
    "\n",
    "if __name__ == '__main__':\n",
    "    sqrt2()"
   ]
  },
  {
   "source": [
    "The square root of 2 to 100 decimal places:\n",
    "1.414213562373095048801688724209698078569671875376948073176679737990732478462107038850387534327641572"
   ],
   "cell_type": "markdown",
   "metadata": {}
  },
  {
   "source": [
    "### References\n",
    "\n",
    "[1] Heron's method http://assets.press.princeton.edu/chapters/s9487.pdf\n",
    "\n",
    "[2] Square root https://en.wikipedia.org/wiki/Square_root\n",
    "\n",
    "[3] Computing square root https://en.wikipedia.org/wiki/Methods_of_computing_square_roots\n",
    "\n",
    "[4] A Note on Machine Method for Root Extraction http://www.spm.uem.br/bspm/pdf/next/151.pdf"
   ],
   "cell_type": "markdown",
   "metadata": {}
  }
 ]
}